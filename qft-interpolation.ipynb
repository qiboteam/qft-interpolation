{
 "cells": [
  {
   "cell_type": "markdown",
   "metadata": {},
   "source": [
    "# QFT Interpolation\n",
    "\n",
    "The following is a notebook that showcases QFT interpolation as per the work done in ***Efficient quantum interpolation of natural data***."
   ]
  },
  {
   "cell_type": "code",
   "execution_count": null,
   "metadata": {
    "ExecuteTime": {
     "end_time": "2022-03-14T06:50:03.486684Z",
     "start_time": "2022-03-14T06:50:03.101058Z"
    }
   },
   "outputs": [],
   "source": [
    "import numpy as np\n",
    "import matplotlib.pyplot as plt\n",
    "import matplotlib as mpl\n",
    "%matplotlib inline"
   ]
  },
  {
   "cell_type": "code",
   "execution_count": null,
   "metadata": {
    "ExecuteTime": {
     "end_time": "2022-03-14T06:50:05.605266Z",
     "start_time": "2022-03-14T06:50:03.489087Z"
    }
   },
   "outputs": [],
   "source": [
    "from qft_class import qft_interpolation_1d"
   ]
  },
  {
   "cell_type": "code",
   "execution_count": null,
   "metadata": {
    "ExecuteTime": {
     "end_time": "2022-03-14T06:50:05.613198Z",
     "start_time": "2022-03-14T06:50:05.607833Z"
    }
   },
   "outputs": [],
   "source": [
    "def mpl_params():\n",
    "    mpl.rcParams['axes.linewidth'] = 2.5\n",
    "    mpl.rcParams['xtick.top'] = True\n",
    "    mpl.rcParams['ytick.right'] = True\n",
    "    mpl.rcParams['xtick.direction'] = 'in'\n",
    "    mpl.rcParams['ytick.direction'] = 'in'\n",
    "    mpl.rcParams['xtick.major.size'] = 5\n",
    "    mpl.rcParams['ytick.major.size'] = 5\n",
    "    mpl.rcParams['xtick.labelsize'] = 'x-large'\n",
    "    mpl.rcParams['ytick.labelsize'] = 'x-large'\n",
    "    mpl.rcParams['axes.grid'] = False\n",
    "    mpl.rcParams['text.usetex'] = True\n",
    "    mpl.rcParams['font.weight'] = 'bold'\n",
    "    mpl.rcParams['legend.fontsize'] = 'xx-large'\n",
    "    mpl.rcParams['legend.frameon'] = False"
   ]
  },
  {
   "cell_type": "markdown",
   "metadata": {},
   "source": [
    "**QFT interpolation for distributions**"
   ]
  },
  {
   "cell_type": "code",
   "execution_count": null,
   "metadata": {
    "ExecuteTime": {
     "end_time": "2022-03-14T06:50:05.618877Z",
     "start_time": "2022-03-14T06:50:05.614979Z"
    }
   },
   "outputs": [],
   "source": [
    "# Set the distribution to be resampled.\n",
    "def gaussian(x, mu, sig):\n",
    "    dx = x[1]-x[0]\n",
    "    gauss = np.exp(-0.5*((x-mu)/sig)**2)/(sig*np.sqrt(2*np.pi))\n",
    "    f = gauss*dx/(np.sum(gauss*dx))\n",
    "    return f"
   ]
  },
  {
   "cell_type": "code",
   "execution_count": null,
   "metadata": {
    "ExecuteTime": {
     "end_time": "2022-03-14T06:50:05.622551Z",
     "start_time": "2022-03-14T06:50:05.620338Z"
    }
   },
   "outputs": [],
   "source": [
    "# Set the initial and ancilla qubits.\n",
    "n = 5\n",
    "m = 10"
   ]
  },
  {
   "cell_type": "code",
   "execution_count": null,
   "metadata": {
    "ExecuteTime": {
     "end_time": "2022-03-14T06:50:05.627323Z",
     "start_time": "2022-03-14T06:50:05.624089Z"
    }
   },
   "outputs": [],
   "source": [
    "# Set the limits for the distribution.\n",
    "x_n = np.linspace(-5, 5, 2**n+1)[:-1]\n",
    "x_nm = np.linspace(-5, 5, 2**(n+m)+1)[:-1]"
   ]
  },
  {
   "cell_type": "code",
   "execution_count": null,
   "metadata": {
    "ExecuteTime": {
     "end_time": "2022-03-14T06:50:05.632535Z",
     "start_time": "2022-03-14T06:50:05.630342Z"
    }
   },
   "outputs": [],
   "source": [
    "# Create the distribution in the small space.\n",
    "g = gaussian(x_n, 0, 1)"
   ]
  },
  {
   "cell_type": "code",
   "execution_count": null,
   "metadata": {
    "ExecuteTime": {
     "end_time": "2022-03-14T06:50:05.637532Z",
     "start_time": "2022-03-14T06:50:05.635058Z"
    }
   },
   "outputs": [],
   "source": [
    "interpolate_1d = qft_interpolation_1d(g, upscale_factor=m)"
   ]
  },
  {
   "cell_type": "code",
   "execution_count": null,
   "metadata": {
    "ExecuteTime": {
     "end_time": "2022-03-14T06:50:05.692092Z",
     "start_time": "2022-03-14T06:50:05.639042Z"
    }
   },
   "outputs": [],
   "source": [
    "%%time\n",
    "interpolated_probability = interpolate_1d()"
   ]
  },
  {
   "cell_type": "code",
   "execution_count": null,
   "metadata": {
    "ExecuteTime": {
     "end_time": "2022-03-14T06:50:05.721650Z",
     "start_time": "2022-03-14T06:50:05.693498Z"
    }
   },
   "outputs": [],
   "source": [
    "# See the depth and gate composition of the qft resampling algorithm for\n",
    "# the chosen parameters.\n",
    "print(interpolate_1d.qft_int_circuit().summary())"
   ]
  },
  {
   "cell_type": "code",
   "execution_count": null,
   "metadata": {
    "ExecuteTime": {
     "end_time": "2022-03-14T06:50:09.972445Z",
     "start_time": "2022-03-14T06:50:05.723359Z"
    }
   },
   "outputs": [],
   "source": [
    "mpl_params()\n",
    "fig, ax = plt.subplots(figsize=(5, 4), dpi=200)\n",
    "ax.scatter(x_nm, 2**m*interpolated_probability, color='#ff6600', s=5, label=f'P_{n+m}')\n",
    "ax.scatter(x_n, g, color='#5555ff', s=30, marker='s', label=f'P_{n}')\n",
    "fig.tight_layout()\n",
    "plt.legend()\n",
    "plt.show()"
   ]
  },
  {
   "cell_type": "markdown",
   "metadata": {},
   "source": [
    "**Using unary uploading**"
   ]
  },
  {
   "cell_type": "code",
   "execution_count": null,
   "metadata": {
    "ExecuteTime": {
     "end_time": "2022-03-14T06:50:09.978303Z",
     "start_time": "2022-03-14T06:50:09.975318Z"
    }
   },
   "outputs": [],
   "source": [
    "# The number of qubits depend on the small space.\n",
    "n = 4\n",
    "m = 2**n-n"
   ]
  },
  {
   "cell_type": "code",
   "execution_count": null,
   "metadata": {
    "ExecuteTime": {
     "end_time": "2022-03-14T06:50:09.983869Z",
     "start_time": "2022-03-14T06:50:09.980356Z"
    }
   },
   "outputs": [],
   "source": [
    "x_nm = np.linspace(-5, 5, 2**(n+m)+1)[:-1]\n",
    "x_n = np.linspace(-5, 5, 2**n+1)[:-1]"
   ]
  },
  {
   "cell_type": "code",
   "execution_count": null,
   "metadata": {
    "ExecuteTime": {
     "end_time": "2022-03-14T06:50:09.988569Z",
     "start_time": "2022-03-14T06:50:09.986001Z"
    }
   },
   "outputs": [],
   "source": [
    "g = gaussian(x_n, 0, 1)"
   ]
  },
  {
   "cell_type": "code",
   "execution_count": null,
   "metadata": {
    "ExecuteTime": {
     "end_time": "2022-03-14T06:50:09.993544Z",
     "start_time": "2022-03-14T06:50:09.990636Z"
    }
   },
   "outputs": [],
   "source": [
    "interpolate_1d_unary = qft_interpolation_1d(g, unary=True)"
   ]
  },
  {
   "cell_type": "code",
   "execution_count": null,
   "metadata": {
    "ExecuteTime": {
     "end_time": "2022-03-14T06:50:10.070613Z",
     "start_time": "2022-03-14T06:50:09.995542Z"
    }
   },
   "outputs": [],
   "source": [
    "%%time\n",
    "interpolated_probability = interpolate_1d_unary()"
   ]
  },
  {
   "cell_type": "code",
   "execution_count": null,
   "metadata": {
    "ExecuteTime": {
     "end_time": "2022-03-14T06:50:11.004409Z",
     "start_time": "2022-03-14T06:50:10.072014Z"
    }
   },
   "outputs": [],
   "source": [
    "fig, ax = plt.subplots(figsize=(5, 4), dpi=200)\n",
    "ax.scatter(x_nm, 2**m*interpolated_probability, color='#ff6600', s=5, label=f'P_{n+m}')\n",
    "ax.scatter(x_n, g, color='#5555ff', s=30, marker='s', label=f'P_{n}')\n",
    "fig.tight_layout()\n",
    "plt.legend()\n",
    "#plt.savefig(f'interpolation-unary.png', dpi=300, format='png', bbox_inches='tight')\n",
    "plt.show()"
   ]
  },
  {
   "cell_type": "markdown",
   "metadata": {},
   "source": [
    "**QFT interpolation for images**"
   ]
  },
  {
   "cell_type": "code",
   "execution_count": null,
   "metadata": {
    "ExecuteTime": {
     "end_time": "2022-03-14T06:50:11.032478Z",
     "start_time": "2022-03-14T06:50:11.006713Z"
    }
   },
   "outputs": [],
   "source": [
    "from qft_interpolation_class import qft_interpolation_2d\n",
    "from skimage import data"
   ]
  },
  {
   "cell_type": "markdown",
   "metadata": {},
   "source": [
    "**Grayscale image**"
   ]
  },
  {
   "cell_type": "code",
   "execution_count": null,
   "metadata": {
    "ExecuteTime": {
     "end_time": "2022-03-14T06:50:11.134384Z",
     "start_time": "2022-03-14T06:50:11.033973Z"
    }
   },
   "outputs": [],
   "source": [
    "image = data.camera()"
   ]
  },
  {
   "cell_type": "code",
   "execution_count": null,
   "metadata": {
    "ExecuteTime": {
     "end_time": "2022-03-14T06:50:11.137836Z",
     "start_time": "2022-03-14T06:50:11.135773Z"
    }
   },
   "outputs": [],
   "source": [
    "# Set the upscale factor for both directions\n",
    "upscale_factor = 2"
   ]
  },
  {
   "cell_type": "code",
   "execution_count": null,
   "metadata": {
    "ExecuteTime": {
     "end_time": "2022-03-14T06:50:11.142264Z",
     "start_time": "2022-03-14T06:50:11.139696Z"
    }
   },
   "outputs": [],
   "source": [
    "interpolate_image_gray = qft_interpolation_2d(image, upscale_factor)"
   ]
  },
  {
   "cell_type": "code",
   "execution_count": null,
   "metadata": {
    "ExecuteTime": {
     "end_time": "2022-03-14T06:50:15.689656Z",
     "start_time": "2022-03-14T06:50:11.148230Z"
    }
   },
   "outputs": [],
   "source": [
    "%%time\n",
    "interpolated_image = interpolate_image_gray()"
   ]
  },
  {
   "cell_type": "code",
   "execution_count": null,
   "metadata": {
    "ExecuteTime": {
     "end_time": "2022-03-14T06:50:15.738886Z",
     "start_time": "2022-03-14T06:50:15.694867Z"
    }
   },
   "outputs": [],
   "source": [
    "print(interpolate_image_gray.qft_int_circuit().summary())"
   ]
  },
  {
   "cell_type": "code",
   "execution_count": null,
   "metadata": {
    "ExecuteTime": {
     "end_time": "2022-03-14T06:50:15.749104Z",
     "start_time": "2022-03-14T06:50:15.740638Z"
    }
   },
   "outputs": [],
   "source": [
    "image_plot = interpolated_image.copy()\n",
    "image_plot[:image.shape[0], :image.shape[1]] = image"
   ]
  },
  {
   "cell_type": "code",
   "execution_count": null,
   "metadata": {
    "ExecuteTime": {
     "end_time": "2022-03-14T06:50:20.453481Z",
     "start_time": "2022-03-14T06:50:15.750680Z"
    }
   },
   "outputs": [],
   "source": [
    "fig = plt.figure(figsize=(8, 8), dpi=300)\n",
    "plt.imshow(image_plot, cmap='gray')\n",
    "fig.tight_layout()\n",
    "plt.show()"
   ]
  },
  {
   "cell_type": "markdown",
   "metadata": {},
   "source": [
    "**RGB image**"
   ]
  },
  {
   "cell_type": "code",
   "execution_count": null,
   "metadata": {
    "ExecuteTime": {
     "end_time": "2022-03-14T06:50:20.475505Z",
     "start_time": "2022-03-14T06:50:20.456628Z"
    }
   },
   "outputs": [],
   "source": [
    "image = data.astronaut()"
   ]
  },
  {
   "cell_type": "code",
   "execution_count": null,
   "metadata": {
    "ExecuteTime": {
     "end_time": "2022-03-14T06:50:20.479554Z",
     "start_time": "2022-03-14T06:50:20.477230Z"
    }
   },
   "outputs": [],
   "source": [
    "upscale_factor = 2"
   ]
  },
  {
   "cell_type": "code",
   "execution_count": null,
   "metadata": {
    "ExecuteTime": {
     "end_time": "2022-03-14T06:50:20.483644Z",
     "start_time": "2022-03-14T06:50:20.481127Z"
    }
   },
   "outputs": [],
   "source": [
    "interpolate_image_rgb = qft_interpolation_2d(image, upscale_factor)"
   ]
  },
  {
   "cell_type": "code",
   "execution_count": null,
   "metadata": {
    "ExecuteTime": {
     "end_time": "2022-03-14T06:51:44.383068Z",
     "start_time": "2022-03-14T06:51:30.208416Z"
    }
   },
   "outputs": [],
   "source": [
    "%%time\n",
    "interpolated_image = interpolate_image_rgb()"
   ]
  },
  {
   "cell_type": "code",
   "execution_count": null,
   "metadata": {
    "ExecuteTime": {
     "end_time": "2022-03-14T06:51:47.955517Z",
     "start_time": "2022-03-14T06:51:47.909264Z"
    }
   },
   "outputs": [],
   "source": [
    "print(interpolate_image_rgb.qft_int_circuit().summary())"
   ]
  },
  {
   "cell_type": "code",
   "execution_count": null,
   "metadata": {
    "ExecuteTime": {
     "end_time": "2022-03-14T06:51:48.225136Z",
     "start_time": "2022-03-14T06:51:48.200459Z"
    }
   },
   "outputs": [],
   "source": [
    "image_plot = interpolated_image.copy()\n",
    "image_plot[:image.shape[0], :image.shape[1],:] = image"
   ]
  },
  {
   "cell_type": "code",
   "execution_count": null,
   "metadata": {
    "ExecuteTime": {
     "end_time": "2022-03-14T06:51:56.695220Z",
     "start_time": "2022-03-14T06:51:48.503423Z"
    }
   },
   "outputs": [],
   "source": [
    "fig = plt.figure(figsize=(8, 8), dpi=300)\n",
    "plt.imshow(image_plot, cmap='gray')\n",
    "fig.tight_layout()\n",
    "plt.show()"
   ]
  },
  {
   "cell_type": "code",
   "execution_count": null,
   "metadata": {},
   "outputs": [],
   "source": []
  }
 ],
 "metadata": {
  "kernelspec": {
   "display_name": "Python 3",
   "language": "python",
   "name": "python3"
  },
  "language_info": {
   "codemirror_mode": {
    "name": "ipython",
    "version": 3
   },
   "file_extension": ".py",
   "mimetype": "text/x-python",
   "name": "python",
   "nbconvert_exporter": "python",
   "pygments_lexer": "ipython3",
   "version": "3.7.6"
  },
  "toc": {
   "base_numbering": 1,
   "nav_menu": {},
   "number_sections": true,
   "sideBar": true,
   "skip_h1_title": false,
   "title_cell": "Table of Contents",
   "title_sidebar": "Contents",
   "toc_cell": false,
   "toc_position": {},
   "toc_section_display": true,
   "toc_window_display": false
  },
  "varInspector": {
   "cols": {
    "lenName": 16,
    "lenType": 16,
    "lenVar": 40
   },
   "kernels_config": {
    "python": {
     "delete_cmd_postfix": "",
     "delete_cmd_prefix": "del ",
     "library": "var_list.py",
     "varRefreshCmd": "print(var_dic_list())"
    },
    "r": {
     "delete_cmd_postfix": ") ",
     "delete_cmd_prefix": "rm(",
     "library": "var_list.r",
     "varRefreshCmd": "cat(var_dic_list()) "
    }
   },
   "types_to_exclude": [
    "module",
    "function",
    "builtin_function_or_method",
    "instance",
    "_Feature"
   ],
   "window_display": false
  }
 },
 "nbformat": 4,
 "nbformat_minor": 4
}
