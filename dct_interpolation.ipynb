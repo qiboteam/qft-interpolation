{
 "cells": [
  {
   "cell_type": "markdown",
   "metadata": {},
   "source": [
    "# s-QCT interpolation\n",
    "\n",
    "The following is a notebook that showcases QCT based interpolation as per the work done in ***Efficient quantum interpolation of natural data***."
   ]
  },
  {
   "cell_type": "code",
   "execution_count": null,
   "metadata": {
    "ExecuteTime": {
     "start_time": "2022-07-19T08:17:56.192Z"
    }
   },
   "outputs": [],
   "source": [
    "from qjpeg_class import qjpeg_compression, qjpeg_interpolation\n",
    "import numpy as np\n",
    "from skimage import data\n",
    "from skimage import io\n",
    "from skimage.transform import rescale\n",
    "from skimage.metrics import peak_signal_noise_ratio as psnr\n",
    "from skimage.metrics import structural_similarity as ssim\n",
    "import cv2\n",
    "from skimage.transform.radon_transform import fft\n",
    "import matplotlib.pyplot as plt\n",
    "import matplotlib as mpl\n",
    "from qft_class import qft_interpolation_2d\n",
    "%matplotlib inline"
   ]
  },
  {
   "cell_type": "code",
   "execution_count": null,
   "metadata": {
    "ExecuteTime": {
     "start_time": "2022-07-19T08:17:56.193Z"
    }
   },
   "outputs": [],
   "source": [
    "def mpl_params():\n",
    "    mpl.rcParams['axes.linewidth'] = 2.5\n",
    "    mpl.rcParams['xtick.top'] = True\n",
    "    mpl.rcParams['ytick.right'] = True\n",
    "    mpl.rcParams['xtick.direction'] = 'in'\n",
    "    mpl.rcParams['ytick.direction'] = 'in'\n",
    "    mpl.rcParams['xtick.major.size'] = 5\n",
    "    mpl.rcParams['ytick.major.size'] = 5\n",
    "    mpl.rcParams['xtick.labelsize'] = 'x-large'\n",
    "    mpl.rcParams['ytick.labelsize'] = 'x-large'\n",
    "    mpl.rcParams['axes.grid'] = False\n",
    "    mpl.rcParams['text.usetex'] = True\n",
    "    mpl.rcParams['font.weight'] = 'bold'\n",
    "    mpl.rcParams['legend.fontsize'] = 'xx-large'\n",
    "    mpl.rcParams['legend.frameon'] = False"
   ]
  },
  {
   "cell_type": "code",
   "execution_count": null,
   "metadata": {
    "ExecuteTime": {
     "start_time": "2022-07-19T08:17:56.194Z"
    }
   },
   "outputs": [],
   "source": [
    "def compare(image, subspace, m=1, v=False):\n",
    "    image_s = cv2.resize(image, (image.shape[0]//2**m, image.shape[1]//2**m), interpolation = cv2.INTER_CUBIC)\n",
    "    image_f = cv2.resize(image_s, image.shape, interpolation = cv2.INTER_CUBIC)\n",
    "    qft_up = qft_interpolation_2d(image_s, upscale_factor=m)\n",
    "    image_qft = qft_up()\n",
    "    qjpeg_up = qjpeg_interpolation(image_s, subspace=subspace, m=m)\n",
    "    image_qjpeg = qjpeg_up()\n",
    "    qct_up = qjpeg_interpolation(image_s, subspace=int(np.ceil(np.log2(image_s.shape[0]))), m=m)\n",
    "    image_qct = qct_up()\n",
    "    p_s = psnr(image, image_f)\n",
    "    s_s = ssim(image, image_f)\n",
    "    p_qft = psnr(image, np.minimum(np.around(image_qft), 255).astype('uint8'))\n",
    "    s_qft = ssim(image, np.minimum(np.around(image_qft), 255).astype('uint8'))\n",
    "    p_qjpeg = psnr(image, np.minimum(np.around(image_qjpeg), 255).astype('uint8'))\n",
    "    s_qjpeg = ssim(image, np.minimum(np.around(image_qjpeg), 255).astype('uint8'))\n",
    "    p_qct = psnr(image, np.minimum(np.around(image_qct), 255).astype('uint8'))\n",
    "    s_qct = ssim(image, np.minimum(np.around(image_qct), 255).astype('uint8'))\n",
    "    if v:\n",
    "        print('PSNR and SSIM for the upscaled images:\\n')\n",
    "        print(f'QJPEG properties: subspace = {subspace}\\n')\n",
    "        print(f'Bicubic downscale and bicubic upscale - PSNR: {p_s} SSIM: {s_s}\\n')\n",
    "        print(f'Bicubic downscale and qft upscale - PSNR: {p_qft} SSIM: {s_qft}\\n')\n",
    "        print(f'Bicubic downscale and qct upscale - PSNR: {p_qct} SSIM: {s_qct}\\n')\n",
    "        print(f'Bicubic downscale and qjpeg upscale - PSNR: {p_qjpeg} SSIM: {s_qjpeg}\\n')\n",
    "    return [[p_s, s_s], [p_qft, s_qft], [p_qct, s_qct], [p_qjpeg, s_qjpeg]]"
   ]
  },
  {
   "cell_type": "code",
   "execution_count": null,
   "metadata": {
    "ExecuteTime": {
     "start_time": "2022-07-19T08:17:56.194Z"
    }
   },
   "outputs": [],
   "source": [
    "mpl_params()"
   ]
  },
  {
   "cell_type": "markdown",
   "metadata": {},
   "source": [
    "**s-DCT interpolation of grayscale images**"
   ]
  },
  {
   "cell_type": "code",
   "execution_count": null,
   "metadata": {
    "ExecuteTime": {
     "start_time": "2022-07-19T08:17:56.195Z"
    }
   },
   "outputs": [],
   "source": [
    "image = data.camera()"
   ]
  },
  {
   "cell_type": "code",
   "execution_count": null,
   "metadata": {
    "ExecuteTime": {
     "start_time": "2022-07-19T08:17:56.196Z"
    }
   },
   "outputs": [],
   "source": [
    "upscale_factor = 2"
   ]
  },
  {
   "cell_type": "markdown",
   "metadata": {},
   "source": [
    "**s = n-DCT interpolation**"
   ]
  },
  {
   "cell_type": "code",
   "execution_count": null,
   "metadata": {
    "ExecuteTime": {
     "start_time": "2022-07-19T08:17:56.197Z"
    }
   },
   "outputs": [],
   "source": [
    "qct_up = qjpeg_interpolation(image, subspace=int(np.ceil(np.log2(image.shape[0]))), m=upscale_factor)"
   ]
  },
  {
   "cell_type": "code",
   "execution_count": null,
   "metadata": {
    "ExecuteTime": {
     "start_time": "2022-07-19T08:17:56.198Z"
    }
   },
   "outputs": [],
   "source": [
    "%%time\n",
    "interpolated_image = qct_up()"
   ]
  },
  {
   "cell_type": "code",
   "execution_count": null,
   "metadata": {
    "ExecuteTime": {
     "start_time": "2022-07-19T08:17:56.198Z"
    }
   },
   "outputs": [],
   "source": [
    "image_plot = interpolated_image.copy()\n",
    "image_plot[:image.shape[0], :image.shape[1]] = image"
   ]
  },
  {
   "cell_type": "code",
   "execution_count": null,
   "metadata": {
    "ExecuteTime": {
     "start_time": "2022-07-19T08:17:56.199Z"
    }
   },
   "outputs": [],
   "source": [
    "fig = plt.figure(figsize=(8, 8), dpi=300)\n",
    "plt.imshow(image_plot, cmap='gray')\n",
    "fig.tight_layout()\n",
    "#plt.savefig(f'qct-bw.png', dpi=300, format='png', bbox_inches='tight')\n",
    "plt.show()"
   ]
  },
  {
   "cell_type": "markdown",
   "metadata": {},
   "source": [
    "**s = 3-DCT interpolation**"
   ]
  },
  {
   "cell_type": "code",
   "execution_count": null,
   "metadata": {
    "ExecuteTime": {
     "start_time": "2022-07-19T08:17:56.200Z"
    }
   },
   "outputs": [],
   "source": [
    "s = 3"
   ]
  },
  {
   "cell_type": "code",
   "execution_count": null,
   "metadata": {
    "ExecuteTime": {
     "start_time": "2022-07-19T08:17:56.201Z"
    }
   },
   "outputs": [],
   "source": [
    "qjpeg_up = qjpeg_interpolation(image, subspace=s, m=upscale_factor)"
   ]
  },
  {
   "cell_type": "code",
   "execution_count": null,
   "metadata": {
    "ExecuteTime": {
     "start_time": "2022-07-19T08:17:56.202Z"
    }
   },
   "outputs": [],
   "source": [
    "%%time\n",
    "interpolated_image = qjpeg_up()"
   ]
  },
  {
   "cell_type": "code",
   "execution_count": null,
   "metadata": {
    "ExecuteTime": {
     "start_time": "2022-07-19T08:17:56.202Z"
    }
   },
   "outputs": [],
   "source": [
    "image_plot = interpolated_image.copy()\n",
    "image_plot[:image.shape[0], :image.shape[1]] = image"
   ]
  },
  {
   "cell_type": "code",
   "execution_count": null,
   "metadata": {
    "ExecuteTime": {
     "start_time": "2022-07-19T08:17:56.203Z"
    }
   },
   "outputs": [],
   "source": [
    "fig = plt.figure(figsize=(8, 8), dpi=300)\n",
    "plt.imshow(image_plot, cmap='gray')\n",
    "fig.tight_layout()\n",
    "#plt.savefig(f'cam-bw-2.png', dpi=300, format='png', bbox_inches='tight')\n",
    "plt.show()"
   ]
  },
  {
   "cell_type": "markdown",
   "metadata": {},
   "source": [
    "**s-DCT interpolation of RGB images**"
   ]
  },
  {
   "cell_type": "code",
   "execution_count": null,
   "metadata": {
    "ExecuteTime": {
     "start_time": "2022-07-19T08:17:56.204Z"
    }
   },
   "outputs": [],
   "source": [
    "image = data.astronaut()"
   ]
  },
  {
   "cell_type": "code",
   "execution_count": null,
   "metadata": {
    "ExecuteTime": {
     "start_time": "2022-07-19T08:17:56.205Z"
    }
   },
   "outputs": [],
   "source": [
    "upscale_factor = 2"
   ]
  },
  {
   "cell_type": "markdown",
   "metadata": {},
   "source": [
    "**s = n-DCT interpolation**"
   ]
  },
  {
   "cell_type": "code",
   "execution_count": null,
   "metadata": {
    "ExecuteTime": {
     "start_time": "2022-07-19T08:17:56.206Z"
    }
   },
   "outputs": [],
   "source": [
    "qct_up = qjpeg_interpolation(image, subspace=int(np.ceil(np.log2(image.shape[0]))), m=upscale_factor)"
   ]
  },
  {
   "cell_type": "code",
   "execution_count": null,
   "metadata": {
    "ExecuteTime": {
     "start_time": "2022-07-19T08:17:56.206Z"
    }
   },
   "outputs": [],
   "source": [
    "%%time\n",
    "interpolated_image = qct_up()"
   ]
  },
  {
   "cell_type": "code",
   "execution_count": null,
   "metadata": {
    "ExecuteTime": {
     "start_time": "2022-07-19T08:17:56.207Z"
    }
   },
   "outputs": [],
   "source": [
    "image_plot = interpolated_image.copy()\n",
    "image_plot[:image.shape[0], :image.shape[1],:] = image"
   ]
  },
  {
   "cell_type": "code",
   "execution_count": null,
   "metadata": {
    "ExecuteTime": {
     "start_time": "2022-07-19T08:17:56.208Z"
    }
   },
   "outputs": [],
   "source": [
    "fig = plt.figure(figsize=(8, 8), dpi=300)\n",
    "plt.imshow(image_plot, cmap='gray')\n",
    "fig.tight_layout()\n",
    "#plt.savefig(f'qct-rgb.png', dpi=300, format='png', bbox_inches='tight')\n",
    "plt.show()"
   ]
  },
  {
   "cell_type": "markdown",
   "metadata": {},
   "source": [
    "**s = 3-DCT interpolation**"
   ]
  },
  {
   "cell_type": "code",
   "execution_count": null,
   "metadata": {
    "ExecuteTime": {
     "start_time": "2022-07-19T08:17:56.209Z"
    }
   },
   "outputs": [],
   "source": [
    "s = 3"
   ]
  },
  {
   "cell_type": "code",
   "execution_count": null,
   "metadata": {
    "ExecuteTime": {
     "start_time": "2022-07-19T08:17:56.209Z"
    }
   },
   "outputs": [],
   "source": [
    "qjpeg_up = qjpeg_interpolation(image, subspace=s, m=upscale_factor)"
   ]
  },
  {
   "cell_type": "code",
   "execution_count": null,
   "metadata": {
    "ExecuteTime": {
     "start_time": "2022-07-19T08:17:56.210Z"
    }
   },
   "outputs": [],
   "source": [
    "%%time\n",
    "interpolated_image = qjpeg_up()"
   ]
  },
  {
   "cell_type": "code",
   "execution_count": null,
   "metadata": {
    "ExecuteTime": {
     "start_time": "2022-07-19T08:17:56.211Z"
    }
   },
   "outputs": [],
   "source": [
    "image_plot = interpolated_image.copy()\n",
    "image_plot[:image.shape[0], :image.shape[1],:] = image"
   ]
  },
  {
   "cell_type": "code",
   "execution_count": null,
   "metadata": {
    "ExecuteTime": {
     "start_time": "2022-07-19T08:17:56.212Z"
    }
   },
   "outputs": [],
   "source": [
    "fig = plt.figure(figsize=(8, 8), dpi=300)\n",
    "plt.imshow(image_plot, cmap='gray')\n",
    "fig.tight_layout()\n",
    "#plt.savefig(f'qjpeg-rgb.png', dpi=300, format='png', bbox_inches='tight')\n",
    "plt.show()"
   ]
  },
  {
   "cell_type": "markdown",
   "metadata": {},
   "source": [
    "**Comparison of Bicubic, QFT, n-DCT and 3-DCT interpolation**"
   ]
  },
  {
   "cell_type": "code",
   "execution_count": null,
   "metadata": {
    "ExecuteTime": {
     "start_time": "2022-07-19T08:17:56.212Z"
    }
   },
   "outputs": [],
   "source": [
    "image = data.camera()"
   ]
  },
  {
   "cell_type": "code",
   "execution_count": null,
   "metadata": {
    "ExecuteTime": {
     "start_time": "2022-07-19T08:17:56.213Z"
    }
   },
   "outputs": [],
   "source": [
    "compare(image, 3, m=1, v=True)"
   ]
  },
  {
   "cell_type": "code",
   "execution_count": null,
   "metadata": {},
   "outputs": [],
   "source": []
  }
 ],
 "metadata": {
  "kernelspec": {
   "display_name": "Python 3",
   "language": "python",
   "name": "python3"
  },
  "language_info": {
   "codemirror_mode": {
    "name": "ipython",
    "version": 3
   },
   "file_extension": ".py",
   "mimetype": "text/x-python",
   "name": "python",
   "nbconvert_exporter": "python",
   "pygments_lexer": "ipython3",
   "version": "3.7.6"
  },
  "toc": {
   "base_numbering": 1,
   "nav_menu": {},
   "number_sections": true,
   "sideBar": true,
   "skip_h1_title": false,
   "title_cell": "Table of Contents",
   "title_sidebar": "Contents",
   "toc_cell": false,
   "toc_position": {},
   "toc_section_display": true,
   "toc_window_display": false
  },
  "varInspector": {
   "cols": {
    "lenName": 16,
    "lenType": 16,
    "lenVar": 40
   },
   "kernels_config": {
    "python": {
     "delete_cmd_postfix": "",
     "delete_cmd_prefix": "del ",
     "library": "var_list.py",
     "varRefreshCmd": "print(var_dic_list())"
    },
    "r": {
     "delete_cmd_postfix": ") ",
     "delete_cmd_prefix": "rm(",
     "library": "var_list.r",
     "varRefreshCmd": "cat(var_dic_list()) "
    }
   },
   "types_to_exclude": [
    "module",
    "function",
    "builtin_function_or_method",
    "instance",
    "_Feature"
   ],
   "window_display": false
  }
 },
 "nbformat": 4,
 "nbformat_minor": 4
}
